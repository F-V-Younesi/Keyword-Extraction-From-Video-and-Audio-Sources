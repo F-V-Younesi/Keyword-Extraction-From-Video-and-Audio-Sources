{
  "cells": [
    {
      "cell_type": "code",
      "execution_count": null,
      "metadata": {},
      "outputs": [],
      "source": [
        "import re"
      ]
    },
    {
      "cell_type": "code",
      "execution_count": null,
      "metadata": {
        "id": "hPbLkwUKDwNi"
      },
      "outputs": [],
      "source": [
        "file_path = '/content/Election Query.txt'\n",
        "\n",
        "with open(file_path, 'r') as file:\n",
        "\tfile_content = ''\n",
        "\tline = file.readline()\n",
        "\n",
        "\twhile line:\n",
        "\t\tfile_content += line\n",
        "\t\tline = file.readline()\n",
        "file_content=file_content.lower()\n",
        "file_content=file_content[7:]\n",
        "without_=file_content.replace(\"_\", \" \").replace('\"','').replace(\"(\",'').replace(')','').replace(\"'\",\"\")\n",
        "# print(without_)\n",
        "\n",
        "with open('/content/modified_query.txt','w') as file:\n",
        "  file.write(without_)"
      ]
    },
    {
      "cell_type": "code",
      "execution_count": null,
      "metadata": {
        "id": "Biy0K1UcXIA2"
      },
      "outputs": [],
      "source": [
        "with open('/content/modified_query.txt', 'r') as file:\n",
        "  query = ''\n",
        "  line = file.readline()\n",
        "\n",
        "  while line:\n",
        "    query += line\n",
        "    line = file.readline()"
      ]
    },
    {
      "cell_type": "code",
      "execution_count": null,
      "metadata": {
        "id": "OFnCCwywENwS"
      },
      "outputs": [],
      "source": [
        "def query_in_string(string):\n",
        "    for term in query.split('or'):\n",
        "        lst = map(str.strip, term.split('and'))\n",
        "        if all(re.search(r\"\\b%s\\b\" % re.escape(word), string) for word in lst):\n",
        "           print(term)\n",
        "           print(\"The Query was found in STT result. This video/audio is about elections\")\n",
        "           return True\n",
        "    print(\"The Query was not found in STT result.\")\n",
        "    return False"
      ]
    },
    {
      "cell_type": "code",
      "execution_count": null,
      "metadata": {
        "id": "YrPM3n91YY6-"
      },
      "outputs": [],
      "source": [
        "query_in_string(corrected_text)"
      ]
    }
  ],
  "metadata": {
    "colab": {
      "provenance": []
    },
    "kernelspec": {
      "display_name": "Python 3",
      "name": "python3"
    },
    "language_info": {
      "name": "python"
    }
  },
  "nbformat": 4,
  "nbformat_minor": 0
}
